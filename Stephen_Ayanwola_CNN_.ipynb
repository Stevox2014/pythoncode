{
  "nbformat": 4,
  "nbformat_minor": 0,
  "metadata": {
    "colab": {
      "provenance": [],
      "gpuType": "T4",
      "mount_file_id": "1AOkhv5zQzo8maUWXmlwPi13yccbHFYv1",
      "authorship_tag": "ABX9TyOu51lm0gr86CkhhOS+bFai",
      "include_colab_link": true
    },
    "kernelspec": {
      "name": "python3",
      "display_name": "Python 3"
    },
    "language_info": {
      "name": "python"
    },
    "accelerator": "GPU"
  },
  "cells": [
    {
      "cell_type": "markdown",
      "metadata": {
        "id": "view-in-github",
        "colab_type": "text"
      },
      "source": [
        "<a href=\"https://colab.research.google.com/github/Stevox2014/pythoncode/blob/main/Stephen_Ayanwola_CNN_.ipynb\" target=\"_parent\"><img src=\"https://colab.research.google.com/assets/colab-badge.svg\" alt=\"Open In Colab\"/></a>"
      ]
    },
    {
      "cell_type": "markdown",
      "source": [
        "## Group Members\n",
        "## Stephen Ayanwola\n",
        "## Girish Gampa\n",
        "## Amol Gaikwad"
      ],
      "metadata": {
        "id": "zQ3O-GkrjNMQ"
      }
    },
    {
      "cell_type": "markdown",
      "source": [
        "**Insralling al the required pacakges**"
      ],
      "metadata": {
        "id": "tuUQ8LkVInFz"
      }
    },
    {
      "cell_type": "code",
      "execution_count": null,
      "metadata": {
        "id": "qvOYFhuHDzfG"
      },
      "outputs": [],
      "source": [
        "# Import libraries\n",
        "import numpy as np\n",
        "import matplotlib.pyplot as plt\n",
        "\n",
        "import tensorflow as tf\n",
        "from tensorflow.keras import datasets, layers, models\n",
        "from tensorflow.keras.utils import to_categorical"
      ]
    },
    {
      "cell_type": "markdown",
      "source": [
        "## Getting the directory and checking if the data dirctory was properly loaded if all labels are proprly entered\n"
      ],
      "metadata": {
        "id": "iUWYG3pYIwJ8"
      }
    },
    {
      "cell_type": "code",
      "source": [
        "import os\n",
        "data_dir='/content/drive/MyDrive/Colab Notebooks/data'\n",
        "os.listdir(data_dir)"
      ],
      "metadata": {
        "colab": {
          "base_uri": "https://localhost:8080/"
        },
        "id": "EkSOR-wiD3s2",
        "outputId": "6839ece1-b9c3-47ae-f1db-573cd7c167ed"
      },
      "execution_count": null,
      "outputs": [
        {
          "output_type": "execute_result",
          "data": {
            "text/plain": [
              "['Apple Red Delicious',\n",
              " 'Apple Red Yellow 2',\n",
              " 'Apple Golden 2',\n",
              " 'Apple Granny Smith',\n",
              " 'Apple Red 1',\n",
              " 'Apple Braeburn',\n",
              " 'Apple Golden 1',\n",
              " 'Apple Pink Lady',\n",
              " 'Apple Crimson Snow',\n",
              " 'Apple Red Yellow 1']"
            ]
          },
          "metadata": {},
          "execution_count": 2
        }
      ]
    },
    {
      "cell_type": "markdown",
      "source": [
        "## Loading the data set using tensorflow keras"
      ],
      "metadata": {
        "id": "C3kj1yJuJRYK"
      }
    },
    {
      "cell_type": "code",
      "source": [
        "tf.data.Dataset?"
      ],
      "metadata": {
        "id": "M7sEWKjUVTxa"
      },
      "execution_count": null,
      "outputs": []
    },
    {
      "cell_type": "code",
      "source": [
        "### since we have 3100 images i made the batch size 31 to get 100 batches be able to train validate and test our images, the image size is 256,256, labelnames would also be retuned as one hot encoded\n",
        "data = tf.keras.utils.image_dataset_from_directory('/content/drive/MyDrive/Colab Notebooks/data', batch_size=31, image_size =(32,32), label_mode= 'categorical')"
      ],
      "metadata": {
        "colab": {
          "base_uri": "https://localhost:8080/"
        },
        "id": "LnzeKKQEPGiy",
        "outputId": "b17b4e9e-8134-4509-f194-000e16312268"
      },
      "execution_count": null,
      "outputs": [
        {
          "output_type": "stream",
          "name": "stdout",
          "text": [
            "Found 3100 files belonging to 10 classes.\n"
          ]
        }
      ]
    },
    {
      "cell_type": "code",
      "source": [
        "tf.keras.utils.image_dataset_from_directory?"
      ],
      "metadata": {
        "id": "QG1ZiTez-rRJ"
      },
      "execution_count": null,
      "outputs": []
    },
    {
      "cell_type": "code",
      "source": [
        "di = data.as_numpy_iterator()"
      ],
      "metadata": {
        "id": "HHNApzz8BLnK"
      },
      "execution_count": null,
      "outputs": []
    },
    {
      "cell_type": "code",
      "source": [
        "batch=di.next()"
      ],
      "metadata": {
        "id": "wRLcfstjBLV0"
      },
      "execution_count": null,
      "outputs": []
    },
    {
      "cell_type": "code",
      "source": [
        "batch[0].min()"
      ],
      "metadata": {
        "colab": {
          "base_uri": "https://localhost:8080/"
        },
        "id": "XGppYDq0MAvB",
        "outputId": "c7766a67-53c5-4514-b525-7e28e9791fcb"
      },
      "execution_count": null,
      "outputs": [
        {
          "output_type": "execute_result",
          "data": {
            "text/plain": [
              "0.0"
            ]
          },
          "metadata": {},
          "execution_count": 8
        }
      ]
    },
    {
      "cell_type": "code",
      "source": [
        "batch[0].max()"
      ],
      "metadata": {
        "id": "QtRP_ZGwVAzg",
        "colab": {
          "base_uri": "https://localhost:8080/"
        },
        "outputId": "1cb1a606-2308-4eb6-a538-286890dd8387"
      },
      "execution_count": null,
      "outputs": [
        {
          "output_type": "execute_result",
          "data": {
            "text/plain": [
              "255.0"
            ]
          },
          "metadata": {},
          "execution_count": 9
        }
      ]
    },
    {
      "cell_type": "code",
      "source": [
        "batch[1].min()"
      ],
      "metadata": {
        "colab": {
          "base_uri": "https://localhost:8080/"
        },
        "id": "9GrNrYV0MN1K",
        "outputId": "3ef86042-4e9f-4c23-af89-0e0d7d524240"
      },
      "execution_count": null,
      "outputs": [
        {
          "output_type": "execute_result",
          "data": {
            "text/plain": [
              "0.0"
            ]
          },
          "metadata": {},
          "execution_count": 10
        }
      ]
    },
    {
      "cell_type": "markdown",
      "source": [],
      "metadata": {
        "id": "kHxLOPBnIPN6"
      }
    },
    {
      "cell_type": "markdown",
      "source": [
        "## Data Preprocessing / Data augumentation"
      ],
      "metadata": {
        "id": "T338Bnx9IK1I"
      }
    },
    {
      "cell_type": "markdown",
      "source": [
        "Scaling( since the maximum value of our image array is 255 we are going to be dividing by 255 to make all our values between 0 to 1)"
      ],
      "metadata": {
        "id": "4yFVzOP1IQf-"
      }
    },
    {
      "cell_type": "code",
      "source": [
        "data = data.map(lambda x, y: (x/255, y))"
      ],
      "metadata": {
        "id": "Gi-zfDTICNTp"
      },
      "execution_count": null,
      "outputs": []
    },
    {
      "cell_type": "code",
      "source": [
        "di = data.as_numpy_iterator()"
      ],
      "metadata": {
        "id": "Ckq-QDd2OBY0"
      },
      "execution_count": null,
      "outputs": []
    },
    {
      "cell_type": "code",
      "source": [
        "batch = di.next()"
      ],
      "metadata": {
        "id": "XSRE471XOCLO"
      },
      "execution_count": null,
      "outputs": []
    },
    {
      "cell_type": "code",
      "source": [
        "batch[0].max()"
      ],
      "metadata": {
        "colab": {
          "base_uri": "https://localhost:8080/"
        },
        "id": "5dbS3jIDOFR2",
        "outputId": "20a0923c-e8b8-45e6-b186-4e8040f08cf9"
      },
      "execution_count": null,
      "outputs": [
        {
          "output_type": "execute_result",
          "data": {
            "text/plain": [
              "1.0"
            ]
          },
          "metadata": {},
          "execution_count": 14
        }
      ]
    },
    {
      "cell_type": "code",
      "source": [
        "batch[1].max()"
      ],
      "metadata": {
        "colab": {
          "base_uri": "https://localhost:8080/"
        },
        "id": "hr8B1T_qOIp9",
        "outputId": "33a3fd56-cb04-4f4c-9adc-891c39b9b0d1"
      },
      "execution_count": null,
      "outputs": [
        {
          "output_type": "execute_result",
          "data": {
            "text/plain": [
              "1.0"
            ]
          },
          "metadata": {},
          "execution_count": 15
        }
      ]
    },
    {
      "cell_type": "code",
      "source": [
        "\n",
        "\n",
        "\n",
        "fig, ax = plt.subplots(ncols= 4, figsize= (20,20))\n",
        "for idx,img in enumerate(batch[0][:4]):\n",
        "  ax[idx].imshow(img)\n",
        "  ax[idx].title.set_text(batch[1][idx])"
      ],
      "metadata": {
        "colab": {
          "base_uri": "https://localhost:8080/",
          "height": 425
        },
        "id": "a39XG7HoTmf7",
        "outputId": "df707842-0324-4477-ce95-32b3210e86bc"
      },
      "execution_count": null,
      "outputs": [
        {
          "output_type": "stream",
          "name": "stderr",
          "text": [
            "/usr/local/lib/python3.10/dist-packages/matplotlib/text.py:1279: FutureWarning: elementwise comparison failed; returning scalar instead, but in the future will perform elementwise comparison\n",
            "  if s != self._text:\n"
          ]
        },
        {
          "output_type": "display_data",
          "data": {
            "text/plain": [
              "<Figure size 2000x2000 with 4 Axes>"
            ],
            "image/png": "[encoded data removed]"
          },
          "metadata": {}
        }
      ]
    },
    {
      "cell_type": "code",
      "source": [
        "len(data)"
      ],
      "metadata": {
        "colab": {
          "base_uri": "https://localhost:8080/"
        },
        "id": "9AnVQ-DhQgVu",
        "outputId": "c70238db-8b1b-48a9-a105-b4b0c40da3e5"
      },
      "execution_count": null,
      "outputs": [
        {
          "output_type": "execute_result",
          "data": {
            "text/plain": [
              "100"
            ]
          },
          "metadata": {},
          "execution_count": 17
        }
      ]
    },
    {
      "cell_type": "markdown",
      "source": [
        "##Spliting our data to Train Test Validation Split in order to avoid over fitting of our model"
      ],
      "metadata": {
        "id": "QkhisYAz-h2r"
      }
    },
    {
      "cell_type": "code",
      "source": [
        "train_size= int(len(data)*0.7)\n",
        "val_size = int(len(data)*0.2)\n",
        "test_size= int(len(data)*0.1)"
      ],
      "metadata": {
        "id": "NH2wsZu7XRv_"
      },
      "execution_count": null,
      "outputs": []
    },
    {
      "cell_type": "code",
      "source": [
        "test_size+val_size+train_size### the total batch size"
      ],
      "metadata": {
        "colab": {
          "base_uri": "https://localhost:8080/"
        },
        "id": "MKMmAmZgBNdz",
        "outputId": "d65044cd-e5b9-4a1b-9992-803c9ee9e0bf"
      },
      "execution_count": null,
      "outputs": [
        {
          "output_type": "execute_result",
          "data": {
            "text/plain": [
              "100"
            ]
          },
          "metadata": {},
          "execution_count": 19
        }
      ]
    },
    {
      "cell_type": "code",
      "source": [
        "train= data.take(train_size)\n",
        "val= data.skip(train_size).take(val_size)\n",
        "test =data.skip(train_size+val_size).take (test_size)"
      ],
      "metadata": {
        "id": "JZW8sKTnBZjJ"
      },
      "execution_count": null,
      "outputs": []
    },
    {
      "cell_type": "code",
      "source": [],
      "metadata": {
        "id": "fIW1V-nkCvu2"
      },
      "execution_count": null,
      "outputs": []
    },
    {
      "cell_type": "code",
      "source": [
        "from tensorflow.keras.models import Sequential\n",
        "from tensorflow.keras.layers import Conv2D, MaxPooling2D,Dense,Flatten,Dropout\n"
      ],
      "metadata": {
        "id": "lX8zDDqSDEMZ"
      },
      "execution_count": null,
      "outputs": []
    },
    {
      "cell_type": "markdown",
      "source": [
        "Building model with diffrent layers"
      ],
      "metadata": {
        "id": "y58FKVB-hI78"
      }
    },
    {
      "cell_type": "code",
      "source": [
        "model = Sequential()\n",
        "\n",
        "model.add(layers.Conv2D(32, (3, 3), activation='relu', input_shape=(32, 32, 3)))\n",
        "model.add(layers.MaxPooling2D((2, 2)))\n",
        "model.add(layers.Conv2D(64, (3, 3), activation='relu'))\n",
        "model.add(layers.MaxPooling2D((2, 2)))\n",
        "model.add(layers.Conv2D(64, (3, 3), activation='relu'))\n",
        "\n",
        "model.add(layers.Flatten())\n",
        "model.add(layers.Dense(64, activation='relu'))\n",
        "model.add(layers.Dense(10, activation='softmax'))\n",
        "\n",
        "model.summary()"
      ],
      "metadata": {
        "colab": {
          "base_uri": "https://localhost:8080/"
        },
        "id": "0U8iUsDTJ3k9",
        "outputId": "e8787e2f-4b00-477a-9634-dad0b6b1e636"
      },
      "execution_count": null,
      "outputs": [
        {
          "output_type": "stream",
          "name": "stdout",
          "text": [
            "Model: \"sequential\"\n",
            "_________________________________________________________________\n",
            " Layer (type)                Output Shape              Param #   \n",
            "=================================================================\n",
            " conv2d (Conv2D)             (None, 30, 30, 32)        896       \n",
            "                                                                 \n",
            " max_pooling2d (MaxPooling2D  (None, 15, 15, 32)       0         \n",
            " )                                                               \n",
            "                                                                 \n",
            " conv2d_1 (Conv2D)           (None, 13, 13, 64)        18496     \n",
            "                                                                 \n",
            " max_pooling2d_1 (MaxPooling  (None, 6, 6, 64)         0         \n",
            " 2D)                                                             \n",
            "                                                                 \n",
            " conv2d_2 (Conv2D)           (None, 4, 4, 64)          36928     \n",
            "                                                                 \n",
            " flatten (Flatten)           (None, 1024)              0         \n",
            "                                                                 \n",
            " dense (Dense)               (None, 64)                65600     \n",
            "                                                                 \n",
            " dense_1 (Dense)             (None, 10)                650       \n",
            "                                                                 \n",
            "=================================================================\n",
            "Total params: 122,570\n",
            "Trainable params: 122,570\n",
            "Non-trainable params: 0\n",
            "_________________________________________________________________\n"
          ]
        }
      ]
    },
    {
      "cell_type": "markdown",
      "source": [
        "##Compling the CNN Model"
      ],
      "metadata": {
        "id": "cCCYhaS7hXYU"
      }
    },
    {
      "cell_type": "code",
      "source": [
        "\n",
        "### Compile CNN\n",
        "\n",
        "model.compile(optimizer='adam',\n",
        "              loss='categorical_crossentropy',\n",
        "              metrics=['accuracy'])"
      ],
      "metadata": {
        "id": "yPc6ABRxMWkM"
      },
      "execution_count": null,
      "outputs": []
    },
    {
      "cell_type": "markdown",
      "source": [
        "##Training the model and shuffling the model to avoid over fitting"
      ],
      "metadata": {
        "id": "iNfJ7bIgirt0"
      }
    },
    {
      "cell_type": "code",
      "source": [
        "## adding the shuffle to prevent overfitting\n",
        "batch_size= 31\n",
        "epochs = 20\n",
        "history = model.fit(train, validation_data=val, batch_size=batch_size,shuffle=True, epochs= epochs)"
      ],
      "metadata": {
        "colab": {
          "base_uri": "https://localhost:8080/"
        },
        "id": "iVWrF17pPbo3",
        "outputId": "773a05d0-fc92-41d0-b28c-3f1cb7c6ffe0"
      },
      "execution_count": null,
      "outputs": [
        {
          "output_type": "stream",
          "name": "stdout",
          "text": [
            "Epoch 1/20\n",
            "70/70 [==============================] - 541s 8s/step - loss: 0.8621 - accuracy: 0.6535 - val_loss: 0.2150 - val_accuracy: 0.9339\n",
            "Epoch 2/20\n",
            "70/70 [==============================] - 8s 107ms/step - loss: 0.1751 - accuracy: 0.9475 - val_loss: 0.0670 - val_accuracy: 0.9839\n",
            "Epoch 3/20\n",
            "70/70 [==============================] - 8s 109ms/step - loss: 0.0592 - accuracy: 0.9839 - val_loss: 0.0418 - val_accuracy: 0.9871\n",
            "Epoch 4/20\n",
            "70/70 [==============================] - 9s 120ms/step - loss: 0.0252 - accuracy: 0.9931 - val_loss: 0.0202 - val_accuracy: 0.9935\n",
            "Epoch 5/20\n",
            "70/70 [==============================] - 6s 79ms/step - loss: 0.0388 - accuracy: 0.9880 - val_loss: 0.0104 - val_accuracy: 1.0000\n",
            "Epoch 6/20\n",
            "70/70 [==============================] - 6s 80ms/step - loss: 0.0055 - accuracy: 0.9995 - val_loss: 0.0038 - val_accuracy: 1.0000\n",
            "Epoch 7/20\n",
            "70/70 [==============================] - 5s 71ms/step - loss: 0.0027 - accuracy: 1.0000 - val_loss: 0.0024 - val_accuracy: 1.0000\n",
            "Epoch 8/20\n",
            "70/70 [==============================] - 6s 85ms/step - loss: 0.0017 - accuracy: 1.0000 - val_loss: 0.0015 - val_accuracy: 1.0000\n",
            "Epoch 9/20\n",
            "70/70 [==============================] - 5s 72ms/step - loss: 0.0012 - accuracy: 1.0000 - val_loss: 0.0011 - val_accuracy: 1.0000\n",
            "Epoch 10/20\n",
            "70/70 [==============================] - 8s 109ms/step - loss: 9.2812e-04 - accuracy: 1.0000 - val_loss: 6.9457e-04 - val_accuracy: 1.0000\n",
            "Epoch 11/20\n",
            "70/70 [==============================] - 5s 73ms/step - loss: 6.2977e-04 - accuracy: 1.0000 - val_loss: 6.2944e-04 - val_accuracy: 1.0000\n",
            "Epoch 12/20\n",
            "70/70 [==============================] - 6s 78ms/step - loss: 5.3223e-04 - accuracy: 1.0000 - val_loss: 4.4836e-04 - val_accuracy: 1.0000\n",
            "Epoch 13/20\n",
            "70/70 [==============================] - 5s 70ms/step - loss: 4.1850e-04 - accuracy: 1.0000 - val_loss: 4.0675e-04 - val_accuracy: 1.0000\n",
            "Epoch 14/20\n",
            "70/70 [==============================] - 6s 88ms/step - loss: 3.8157e-04 - accuracy: 1.0000 - val_loss: 3.4283e-04 - val_accuracy: 1.0000\n",
            "Epoch 15/20\n",
            "70/70 [==============================] - 5s 73ms/step - loss: 2.7751e-04 - accuracy: 1.0000 - val_loss: 2.7607e-04 - val_accuracy: 1.0000\n",
            "Epoch 16/20\n",
            "70/70 [==============================] - 6s 78ms/step - loss: 2.1597e-04 - accuracy: 1.0000 - val_loss: 2.5489e-04 - val_accuracy: 1.0000\n",
            "Epoch 17/20\n",
            "70/70 [==============================] - 5s 70ms/step - loss: 1.8206e-04 - accuracy: 1.0000 - val_loss: 2.1152e-04 - val_accuracy: 1.0000\n",
            "Epoch 18/20\n",
            "70/70 [==============================] - 5s 71ms/step - loss: 1.6173e-04 - accuracy: 1.0000 - val_loss: 1.7322e-04 - val_accuracy: 1.0000\n",
            "Epoch 19/20\n",
            "70/70 [==============================] - 6s 88ms/step - loss: 1.4376e-04 - accuracy: 1.0000 - val_loss: 1.6888e-04 - val_accuracy: 1.0000\n",
            "Epoch 20/20\n",
            "70/70 [==============================] - 8s 107ms/step - loss: 1.2456e-04 - accuracy: 1.0000 - val_loss: 1.3678e-04 - val_accuracy: 1.0000\n"
          ]
        }
      ]
    },
    {
      "cell_type": "markdown",
      "source": [
        "Plotting The accuracy and loss over each epoch"
      ],
      "metadata": {
        "id": "FQYOPIzIcKd1"
      }
    },
    {
      "cell_type": "code",
      "source": [
        "# Plot training and validation loss and accuracy\n",
        "plt.figure(figsize=(10, 5))\n",
        "\n",
        "plt.subplot(1, 2, 1)\n",
        "plt.plot(history.history['accuracy'], label='Training Accuracy')\n",
        "plt.plot(history.history['val_accuracy'], label='Validation Accuracy')\n",
        "plt.xlabel('Epoch')\n",
        "plt.ylabel('Accuracy')\n",
        "plt.legend()\n",
        "\n",
        "plt.subplot(1, 2, 2)\n",
        "plt.plot(history.history['loss'], label='Training Loss')\n",
        "plt.plot(history.history['val_loss'], label='Validation Loss')\n",
        "plt.xlabel('Epoch')\n",
        "plt.ylabel('Loss')\n",
        "plt.legend()\n",
        "\n",
        "plt.show()"
      ],
      "metadata": {
        "id": "D9YPVCeiTV3f",
        "colab": {
          "base_uri": "https://localhost:8080/",
          "height": 465
        },
        "outputId": "3b3f74e4-bde7-47ab-c979-5a85dffdb56c"
      },
      "execution_count": null,
      "outputs": [
        {
          "output_type": "display_data",
          "data": {
            "text/plain": [
              "<Figure size 1000x500 with 2 Axes>"
            ],
            "image/png": "[encoded data removed]"
          },
          "metadata": {}
        }
      ]
    },
    {
      "cell_type": "markdown",
      "source": [
        "##Model evaluation"
      ],
      "metadata": {
        "id": "5ahLyKfBjv2i"
      }
    },
    {
      "cell_type": "code",
      "source": [
        "from tensorflow.keras.metrics import Precision, Recall, binary_accuracy"
      ],
      "metadata": {
        "id": "LnZNNcBETWda"
      },
      "execution_count": null,
      "outputs": []
    },
    {
      "cell_type": "code",
      "source": [
        "pre= Precision()\n",
        "re = Recall()"
      ],
      "metadata": {
        "id": "KfOr4n5ah327"
      },
      "execution_count": null,
      "outputs": []
    },
    {
      "cell_type": "code",
      "source": [
        "for batch in  test.as_numpy_iterator():\n",
        "  x,y = batch\n",
        "  yhat =model.predict(x)\n",
        "  pre.update_state(y,yhat)\n",
        "  re.update_state(y,yhat)\n"
      ],
      "metadata": {
        "id": "NPIsZh1GiUyq",
        "colab": {
          "base_uri": "https://localhost:8080/"
        },
        "outputId": "cd546c51-a574-444d-8ded-d904419e3d08"
      },
      "execution_count": null,
      "outputs": [
        {
          "output_type": "stream",
          "name": "stdout",
          "text": [
            "1/1 [==============================] - 0s 99ms/step\n",
            "1/1 [==============================] - 0s 27ms/step\n",
            "1/1 [==============================] - 0s 30ms/step\n",
            "1/1 [==============================] - 0s 27ms/step\n",
            "1/1 [==============================] - 0s 31ms/step\n",
            "1/1 [==============================] - 0s 41ms/step\n",
            "1/1 [==============================] - 0s 30ms/step\n",
            "1/1 [==============================] - 0s 32ms/step\n",
            "1/1 [==============================] - 0s 43ms/step\n",
            "1/1 [==============================] - 0s 34ms/step\n"
          ]
        }
      ]
    },
    {
      "cell_type": "code",
      "source": [
        "print( f'Precison: {pre.result()}, Recall: {re.result()}')"
      ],
      "metadata": {
        "id": "Lk3mLpEKjdl-",
        "colab": {
          "base_uri": "https://localhost:8080/"
        },
        "outputId": "c316b74e-dc61-4444-f2c5-789d15639876"
      },
      "execution_count": null,
      "outputs": [
        {
          "output_type": "stream",
          "name": "stdout",
          "text": [
            "Precison: 1.0, Recall: 1.0\n"
          ]
        }
      ]
    },
    {
      "cell_type": "code",
      "source": [],
      "metadata": {
        "id": "wzicdCGpjtJl"
      },
      "execution_count": null,
      "outputs": []
    },
    {
      "cell_type": "markdown",
      "source": [],
      "metadata": {
        "id": "tm0pn6K2p5Jj"
      }
    },
    {
      "cell_type": "code",
      "source": [],
      "metadata": {
        "id": "CggIOUc32JP0"
      },
      "execution_count": null,
      "outputs": []
    }
  ]
}