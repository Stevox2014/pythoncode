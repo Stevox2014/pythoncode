{
 "cells": [
  {
   "cell_type": "code",
   "execution_count": 8,
   "metadata": {},
   "outputs": [],
   "source": [
    "import mysql.connector"
   ]
  },
  {
   "cell_type": "code",
   "execution_count": 15,
   "metadata": {},
   "outputs": [
    {
     "name": "stdout",
     "output_type": "stream",
     "text": [
      "('information_schema',)\n",
      "('mysql',)\n",
      "('performance_schema',)\n",
      "('sakila',)\n",
      "('schoolmanagementsystem',)\n",
      "('sys',)\n",
      "('world',)\n"
     ]
    }
   ],
   "source": [
    "mydb = mysql.connector.connect(\n",
    "     host = 'localhost',\n",
    "     user = 'root',\n",
    "     password = 'Prayer2God'\n",
    ")\n",
    "\n",
    "mycursor = mydb.cursor()\n",
    "mycursor. execute('SHOW DATABASES')\n",
    "for x in mycursor:\n",
    "    print (x)"
   ]
  },
  {
   "cell_type": "code",
   "execution_count": 16,
   "metadata": {},
   "outputs": [
    {
     "name": "stdout",
     "output_type": "stream",
     "text": [
      "('staffdetails',)\n",
      "('studentrecords',)\n",
      "('studentrecordscopy',)\n",
      "('studentsperformance',)\n"
     ]
    }
   ],
   "source": [
    "mydb = mysql.connector.connect(\n",
    "     host = 'localhost',\n",
    "     user = 'root',\n",
    "     password = 'Prayer2God',\n",
    "    database = 'schoolmanagementsystem'\n",
    ")\n",
    "\n",
    "mycursor = mydb.cursor()\n",
    "mycursor. execute('SHOW TABLES')\n",
    "for x in mycursor:\n",
    "    print (x)"
   ]
  },
  {
   "cell_type": "code",
   "execution_count": 17,
   "metadata": {},
   "outputs": [],
   "source": [
    "class dog:\n",
    "    attr1 = 'mammal'\n",
    "    attr2 = 'dog'\n",
    "obj = dog()"
   ]
  },
  {
   "cell_type": "code",
   "execution_count": 18,
   "metadata": {},
   "outputs": [
    {
     "data": {
      "text/plain": [
       "'mammal'"
      ]
     },
     "execution_count": 18,
     "metadata": {},
     "output_type": "execute_result"
    }
   ],
   "source": [
    "obj. attr1"
   ]
  },
  {
   "cell_type": "code",
   "execution_count": 19,
   "metadata": {},
   "outputs": [
    {
     "data": {
      "text/plain": [
       "'dog'"
      ]
     },
     "execution_count": 19,
     "metadata": {},
     "output_type": "execute_result"
    }
   ],
   "source": [
    "obj.attr2"
   ]
  },
  {
   "cell_type": "code",
   "execution_count": 40,
   "metadata": {},
   "outputs": [],
   "source": [
    "class dog:\n",
    "    attr1 = 'mammal'\n",
    "    attr2 = 'dog'\n",
    "    def details(self):\n",
    "        print(f'''I belong to the kingdom of {self.attr1} \n",
    " i am a {self.attr2} with four legs \n",
    "  ''')\n",
    "obj = dog()"
   ]
  },
  {
   "cell_type": "code",
   "execution_count": 41,
   "metadata": {},
   "outputs": [
    {
     "name": "stdout",
     "output_type": "stream",
     "text": [
      "I belong to the kingdom of mammal \n",
      " i am a dog with four legs \n",
      "  \n"
     ]
    }
   ],
   "source": [
    "obj.details()"
   ]
  },
  {
   "cell_type": "code",
   "execution_count": 2,
   "metadata": {},
   "outputs": [
    {
     "name": "stdout",
     "output_type": "stream",
     "text": [
      "BMW X3 has started\n",
      "None\n",
      "please  Select a gear ranging from 1 to 6\n",
      "Select gear to change gears9\n",
      "invalid gear\n",
      "None\n",
      " Select 1 to engage an 2 to disengage nitro9\n",
      "Inavadlid operations\n",
      "None\n",
      "BMW X3 has stopped\n",
      "None\n"
     ]
    }
   ],
   "source": [
    "class simulation:\n",
    "    def __init__(self,brand,model,color,year, speed):\n",
    "        self.brand =brand\n",
    "        self.model = model\n",
    "        self.color = color\n",
    "        self. year = year\n",
    "        self. speed =speed\n",
    "        \n",
    "    def start(self):\n",
    "        print (f'{self.brand} {self.model} has started')\n",
    "    def gear(self):\n",
    "        print( 'please  Select a gear ranging from 1 to 6')\n",
    "        gears = int(input('Select gear to change gears'))\n",
    "        if gears == 1:\n",
    "            print ('Your are on gear one')\n",
    "        elif gears == 2:\n",
    "            print ('Your are on gear two')\n",
    "        elif gears == 3:\n",
    "            print ('Your are on gear three')\n",
    "        elif gears == 4:\n",
    "            print ('Your are on gear four')\n",
    "        elif gears == 5:\n",
    "            print ('Your are on gear five')\n",
    "        elif gears == 6:\n",
    "            print ('Your are on gear reverse')\n",
    "        else:\n",
    "            print('invalid gear')\n",
    "            \n",
    "    def nitro(self):\n",
    "        nitros= int(input(' Select 1 to engage an 2 to disengage nitro'))\n",
    "        if nitros == 1:\n",
    "            print ( 'engage nitro')\n",
    "        elif nitros ==2 :\n",
    "            print('disengae nitro')\n",
    "        else:\n",
    "            print('Inavadlid operations')\n",
    "    def stop(self):\n",
    "        print (f'{self.brand} {self.model} has stopped')\n",
    "        \n",
    "obj = simulation('BMW','X3','Black',2021,350)       \n",
    "\n",
    "print(obj.start())\n",
    "print (obj.gear())\n",
    "print (obj.nitro())\n",
    "print (obj.stop())"
   ]
  },
  {
   "cell_type": "code",
   "execution_count": 61,
   "metadata": {},
   "outputs": [
    {
     "name": "stdout",
     "output_type": "stream",
     "text": [
      "BMW X3 has started\n",
      "None\n",
      "please  Select a gear ranging from 1 to 6\n",
      "Select gear to change gears3\n",
      "Your are on gear three\n",
      "None\n",
      " Select 1 to engage an 2 to disengage nitro1\n",
      "engage nitro\n",
      "None\n",
      " Select 1 to open trunk  and 2 to close trunk2\n",
      "trunk closed\n",
      "None\n",
      "BMW X3 has stopped\n",
      "None\n"
     ]
    }
   ],
   "source": [
    "class test(simulation):\n",
    "    def opentrunk(self):\n",
    "        trunk = int(input(' Select 1 to open trunk  and 2 to close trunk'))\n",
    "        if trunk == 1:\n",
    "            print ( 'trunk opened')\n",
    "        elif trunk ==2 :\n",
    "            print('trunk closed')\n",
    "        else:\n",
    "            print('Inavadlid operations')\n",
    "            \n",
    "obj2 = test('BMW','X3','Black',2021,350)       \n",
    "\n",
    "print(obj2.start())\n",
    "print (obj2.gear())\n",
    "print (obj2.nitro())\n",
    "print(obj2.opentrunk())\n",
    "print (obj2.stop())"
   ]
  }
 ],
 "metadata": {
  "kernelspec": {
   "display_name": "Python 3",
   "language": "python",
   "name": "python3"
  },
  "language_info": {
   "codemirror_mode": {
    "name": "ipython",
    "version": 3
   },
   "file_extension": ".py",
   "mimetype": "text/x-python",
   "name": "python",
   "nbconvert_exporter": "python",
   "pygments_lexer": "ipython3",
   "version": "3.8.5"
  }
 },
 "nbformat": 4,
 "nbformat_minor": 4
}
