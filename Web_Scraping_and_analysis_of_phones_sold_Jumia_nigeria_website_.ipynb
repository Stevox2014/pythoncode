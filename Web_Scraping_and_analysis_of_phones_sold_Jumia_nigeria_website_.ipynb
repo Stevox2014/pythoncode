{
  "cells": [
    {
      "cell_type": "markdown",
      "metadata": {
        "id": "view-in-github",
        "colab_type": "text"
      },
      "source": [
        "<a href=\"https://colab.research.google.com/github/Stevox2014/pythoncode/blob/main/Web_Scraping_and_analysis_of_phones_sold_Jumia_nigeria_website_.ipynb\" target=\"_parent\"><img src=\"https://colab.research.google.com/assets/colab-badge.svg\" alt=\"Open In Colab\"/></a>"
      ]
    },
    {
      "cell_type": "code",
      "execution_count": null,
      "metadata": {
        "id": "w-b5ojGKElGO"
      },
      "outputs": [],
      "source": [
        "import requests\n",
        "import pandas as pd\n",
        "import numpy as np\n",
        "from bs4 import BeautifulSoup\n"
      ]
    },
    {
      "cell_type": "code",
      "execution_count": null,
      "metadata": {
        "colab": {
          "base_uri": "https://localhost:8080/"
        },
        "id": "QG6SpsRNElGS",
        "outputId": "dd542a3e-bdba-459b-86b4-294a817d5cb5"
      },
      "outputs": [
        {
          "name": "stdout",
          "output_type": "stream",
          "text": [
            "https://www.jumia.com.ng/catalog/?q=smart+phones&page=2\n",
            "https://www.jumia.com.ng/catalog/?q=smart+phones&page=3\n",
            "https://www.jumia.com.ng/catalog/?q=smart+phones&page=4\n",
            "https://www.jumia.com.ng/catalog/?q=smart+phones&page=5\n",
            "https://www.jumia.com.ng/catalog/?q=smart+phones&page=6\n",
            "https://www.jumia.com.ng/catalog/?q=smart+phones&page=7\n",
            "https://www.jumia.com.ng/catalog/?q=smart+phones&page=8\n",
            "https://www.jumia.com.ng/catalog/?q=smart+phones&page=9\n",
            "https://www.jumia.com.ng/catalog/?q=smart+phones&page=10\n",
            "https://www.jumia.com.ng/catalog/?q=smart+phones&page=11\n",
            "https://www.jumia.com.ng/catalog/?q=smart+phones&page=12\n",
            "https://www.jumia.com.ng/catalog/?q=smart+phones&page=13\n",
            "https://www.jumia.com.ng/catalog/?q=smart+phones&page=14\n",
            "https://www.jumia.com.ng/catalog/?q=smart+phones&page=15\n",
            "https://www.jumia.com.ng/catalog/?q=smart+phones&page=16\n",
            "https://www.jumia.com.ng/catalog/?q=smart+phones&page=17\n",
            "https://www.jumia.com.ng/catalog/?q=smart+phones&page=18\n",
            "https://www.jumia.com.ng/catalog/?q=smart+phones&page=19\n",
            "https://www.jumia.com.ng/catalog/?q=smart+phones&page=20\n",
            "https://www.jumia.com.ng/catalog/?q=smart+phones&page=21\n",
            "https://www.jumia.com.ng/catalog/?q=smart+phones&page=22\n",
            "https://www.jumia.com.ng/catalog/?q=smart+phones&page=23\n",
            "https://www.jumia.com.ng/catalog/?q=smart+phones&page=24\n",
            "https://www.jumia.com.ng/catalog/?q=smart+phones&page=25\n",
            "https://www.jumia.com.ng/catalog/?q=smart+phones&page=26\n",
            "https://www.jumia.com.ng/catalog/?q=smart+phones&page=27\n",
            "https://www.jumia.com.ng/catalog/?q=smart+phones&page=28\n",
            "https://www.jumia.com.ng/catalog/?q=smart+phones&page=29\n",
            "https://www.jumia.com.ng/catalog/?q=smart+phones&page=30\n",
            "https://www.jumia.com.ng/catalog/?q=smart+phones&page=31\n",
            "https://www.jumia.com.ng/catalog/?q=smart+phones&page=32\n",
            "https://www.jumia.com.ng/catalog/?q=smart+phones&page=33\n",
            "https://www.jumia.com.ng/catalog/?q=smart+phones&page=34\n",
            "https://www.jumia.com.ng/catalog/?q=smart+phones&page=35\n",
            "https://www.jumia.com.ng/catalog/?q=smart+phones&page=36\n",
            "https://www.jumia.com.ng/catalog/?q=smart+phones&page=37\n",
            "https://www.jumia.com.ng/catalog/?q=smart+phones&page=38\n",
            "https://www.jumia.com.ng/catalog/?q=smart+phones&page=39\n",
            "https://www.jumia.com.ng/catalog/?q=smart+phones&page=40\n",
            "https://www.jumia.com.ng/catalog/?q=smart+phones&page=41\n",
            "https://www.jumia.com.ng/catalog/?q=smart+phones&page=42\n",
            "https://www.jumia.com.ng/catalog/?q=smart+phones&page=43\n",
            "https://www.jumia.com.ng/catalog/?q=smart+phones&page=44\n",
            "https://www.jumia.com.ng/catalog/?q=smart+phones&page=45\n",
            "https://www.jumia.com.ng/catalog/?q=smart+phones&page=46\n",
            "https://www.jumia.com.ng/catalog/?q=smart+phones&page=47\n",
            "https://www.jumia.com.ng/catalog/?q=smart+phones&page=48\n",
            "https://www.jumia.com.ng/catalog/?q=smart+phones&page=49\n"
          ]
        },
        {
          "name": "stderr",
          "output_type": "stream",
          "text": [
            "IOPub data rate exceeded.\n",
            "The notebook server will temporarily stop sending output\n",
            "to the client in order to avoid crashing it.\n",
            "To change this limit, set the config variable\n",
            "`--NotebookApp.iopub_data_rate_limit`.\n",
            "\n",
            "Current values:\n",
            "NotebookApp.iopub_data_rate_limit=1000000.0 (bytes/sec)\n",
            "NotebookApp.rate_limit_window=3.0 (secs)\n",
            "\n"
          ]
        }
      ],
      "source": [
        "resps = []\n",
        "\n",
        "for i in range(2, 50):\n",
        "    url = \"https://www.jumia.com.ng/catalog/?q=smart+phones&page=\" + str(i)\n",
        "    print(url)\n",
        "    resp = requests.get(url)\n",
        "    resps.append(resp.text)\n",
        "\n",
        "# Join all the contents together\n",
        "respss = '\\n'.join(resps)\n",
        "print(respss)\n",
        "\n",
        "soup = BeautifulSoup(respss, 'html.parser')"
      ]
    },
    {
      "cell_type": "code",
      "execution_count": null,
      "metadata": {
        "id": "dQoZymoWElGU"
      },
      "outputs": [],
      "source": [
        "items = soup.find_all(\"article\",{'class':\"prd _fb col c-prd\"})"
      ]
    },
    {
      "cell_type": "code",
      "execution_count": null,
      "metadata": {
        "colab": {
          "base_uri": "https://localhost:8080/"
        },
        "id": "pN0lb7GnElGV",
        "outputId": "76017a93-eec5-40d2-a068-0bf3af38fa60"
      },
      "outputs": [
        {
          "data": {
            "text/plain": [
              "1920"
            ]
          },
          "execution_count": 4,
          "metadata": {},
          "output_type": "execute_result"
        }
      ],
      "source": [
        "len(items)"
      ]
    },
    {
      "cell_type": "code",
      "execution_count": null,
      "metadata": {
        "id": "5vcl2dYhElGV"
      },
      "outputs": [],
      "source": [
        "info = []\n",
        "for item in items:\n",
        "    record = {}\n",
        "    record['title'] = item.find('h3', {'class': \"name\"}).text\n",
        "    record['Source'] = item.find('div', {'class': \"bdg _mall _xs\"}).text if item.find('div', {'class': \"bdg _mall _xs\"}) is not None else \"Unknown source\"\n",
        "    record['Brand'] = item.find('a', {'class': \"core\"}).get('data-brand') if item.find('a', {'class': \"core\"}) is not None else \"Unknown brand\"\n",
        "    record['Category'] = item.find('a', {'class': \"core\"}).get('data-category') if item.find('a', {'class': \"core\"}) is not None else \"Unknown brand\"\n",
        "    record['Rating'] = float(item.find('div', {'class': \"stars _s\"}).text[:3].replace(' o', '').replace(',', '').split('-')[0]) if item.find('div', {'class': \"stars _s\"}) is not None else 5\n",
        "    record['Discounted price'] = float(''.join(filter(str.isdigit, item.find('div', {'class': 'prc'}).text.split('-')[0])))\n",
        "    record['price'] = float(''.join(filter(str.isdigit, item.find('div', {'class': 'old'}).text.split('-')[0]))) if item.find('div', {'class': 'old'}) is not None else record['Discounted price']\n",
        "    info.append(record)"
      ]
    },
    {
      "cell_type": "code",
      "execution_count": null,
      "metadata": {
        "id": "QHAE81wIElGX"
      },
      "outputs": [],
      "source": [
        "df=pd.json_normalize(info)"
      ]
    },
    {
      "cell_type": "code",
      "execution_count": null,
      "metadata": {
        "colab": {
          "base_uri": "https://localhost:8080/",
          "height": 206
        },
        "id": "VQLARzK5ElGX",
        "outputId": "e90e89d4-4de2-4c85-b868-817142ba069e"
      },
      "outputs": [
        {
          "data": {
            "text/html": [
              "\n",
              "\n",
              "  <div id=\"df-5039acab-f5ea-444c-a6e6-97aab4950632\">\n",
              "    <div class=\"colab-df-container\">\n",
              "      <div>\n",
              "<style scoped>\n",
              "    .dataframe tbody tr th:only-of-type {\n",
              "        vertical-align: middle;\n",
              "    }\n",
              "\n",
              "    .dataframe tbody tr th {\n",
              "        vertical-align: top;\n",
              "    }\n",
              "\n",
              "    .dataframe thead th {\n",
              "        text-align: right;\n",
              "    }\n",
              "</style>\n",
              "<table border=\"1\" class=\"dataframe\">\n",
              "  <thead>\n",
              "    <tr style=\"text-align: right;\">\n",
              "      <th></th>\n",
              "      <th>title</th>\n",
              "      <th>Source</th>\n",
              "      <th>Brand</th>\n",
              "      <th>Category</th>\n",
              "      <th>Rating</th>\n",
              "      <th>Discounted price</th>\n",
              "      <th>price</th>\n",
              "    </tr>\n",
              "  </thead>\n",
              "  <tbody>\n",
              "    <tr>\n",
              "      <th>0</th>\n",
              "      <td>7''1024*600 LCD With Touchscreen Digitizer Dis...</td>\n",
              "      <td>Unknown source</td>\n",
              "      <td>Generic</td>\n",
              "      <td>Automobile/Car Electronics &amp; Accessories/Car E...</td>\n",
              "      <td>5.0</td>\n",
              "      <td>23913.0</td>\n",
              "      <td>28160.0</td>\n",
              "    </tr>\n",
              "    <tr>\n",
              "      <th>1</th>\n",
              "      <td>Tecno POP 7 6.6\" 2GB RAM/ 64GB ROM Android 12 ...</td>\n",
              "      <td>Official Store</td>\n",
              "      <td>Tecno</td>\n",
              "      <td>Phones &amp; Tablets/Mobile Phones/Smartphones/And...</td>\n",
              "      <td>4.4</td>\n",
              "      <td>59000.0</td>\n",
              "      <td>110800.0</td>\n",
              "    </tr>\n",
              "    <tr>\n",
              "      <th>2</th>\n",
              "      <td>XIAOMI Redmi A2+ 6.52” 2GB RAM/32GB ROM Androi...</td>\n",
              "      <td>Official Store</td>\n",
              "      <td>XIAOMI</td>\n",
              "      <td>Phones &amp; Tablets/Mobile Phones/Smartphones/And...</td>\n",
              "      <td>4.0</td>\n",
              "      <td>46500.0</td>\n",
              "      <td>59000.0</td>\n",
              "    </tr>\n",
              "    <tr>\n",
              "      <th>3</th>\n",
              "      <td>AGM NOTE N1,6.52\" 4G Smartphone, 128+16GB*(8+8...</td>\n",
              "      <td>Official Store</td>\n",
              "      <td>AGM</td>\n",
              "      <td>Phones &amp; Tablets/Mobile Phones/Smartphones/And...</td>\n",
              "      <td>5.0</td>\n",
              "      <td>76000.0</td>\n",
              "      <td>150000.0</td>\n",
              "    </tr>\n",
              "    <tr>\n",
              "      <th>4</th>\n",
              "      <td>Samsung Galaxy A14 6.6\" 4GB RAM/64GB ROM Andro...</td>\n",
              "      <td>Official Store</td>\n",
              "      <td>Samsung</td>\n",
              "      <td>Phones &amp; Tablets/Mobile Phones/Smartphones/And...</td>\n",
              "      <td>4.4</td>\n",
              "      <td>100300.0</td>\n",
              "      <td>119000.0</td>\n",
              "    </tr>\n",
              "  </tbody>\n",
              "</table>\n",
              "</div>\n",
              "      <button class=\"colab-df-convert\" onclick=\"convertToInteractive('df-5039acab-f5ea-444c-a6e6-97aab4950632')\"\n",
              "              title=\"Convert this dataframe to an interactive table.\"\n",
              "              style=\"display:none;\">\n",
              "\n",
              "  <svg xmlns=\"http://www.w3.org/2000/svg\" height=\"24px\"viewBox=\"0 0 24 24\"\n",
              "       width=\"24px\">\n",
              "    <path d=\"M0 0h24v24H0V0z\" fill=\"none\"/>\n",
              "    <path d=\"M18.56 5.44l.94 2.06.94-2.06 2.06-.94-2.06-.94-.94-2.06-.94 2.06-2.06.94zm-11 1L8.5 8.5l.94-2.06 2.06-.94-2.06-.94L8.5 2.5l-.94 2.06-2.06.94zm10 10l.94 2.06.94-2.06 2.06-.94-2.06-.94-.94-2.06-.94 2.06-2.06.94z\"/><path d=\"M17.41 7.96l-1.37-1.37c-.4-.4-.92-.59-1.43-.59-.52 0-1.04.2-1.43.59L10.3 9.45l-7.72 7.72c-.78.78-.78 2.05 0 2.83L4 21.41c.39.39.9.59 1.41.59.51 0 1.02-.2 1.41-.59l7.78-7.78 2.81-2.81c.8-.78.8-2.07 0-2.86zM5.41 20L4 18.59l7.72-7.72 1.47 1.35L5.41 20z\"/>\n",
              "  </svg>\n",
              "      </button>\n",
              "\n",
              "\n",
              "\n",
              "    <div id=\"df-ad60eed0-71dd-4a14-bfe4-b845f7b00054\">\n",
              "      <button class=\"colab-df-quickchart\" onclick=\"quickchart('df-ad60eed0-71dd-4a14-bfe4-b845f7b00054')\"\n",
              "              title=\"Suggest charts.\"\n",
              "              style=\"display:none;\">\n",
              "\n",
              "<svg xmlns=\"http://www.w3.org/2000/svg\" height=\"24px\"viewBox=\"0 0 24 24\"\n",
              "     width=\"24px\">\n",
              "    <g>\n",
              "        <path d=\"M19 3H5c-1.1 0-2 .9-2 2v14c0 1.1.9 2 2 2h14c1.1 0 2-.9 2-2V5c0-1.1-.9-2-2-2zM9 17H7v-7h2v7zm4 0h-2V7h2v10zm4 0h-2v-4h2v4z\"/>\n",
              "    </g>\n",
              "</svg>\n",
              "      </button>\n",
              "    </div>\n",
              "\n",
              "<style>\n",
              "  .colab-df-quickchart {\n",
              "    background-color: #E8F0FE;\n",
              "    border: none;\n",
              "    border-radius: 50%;\n",
              "    cursor: pointer;\n",
              "    display: none;\n",
              "    fill: #1967D2;\n",
              "    height: 32px;\n",
              "    padding: 0 0 0 0;\n",
              "    width: 32px;\n",
              "  }\n",
              "\n",
              "  .colab-df-quickchart:hover {\n",
              "    background-color: #E2EBFA;\n",
              "    box-shadow: 0px 1px 2px rgba(60, 64, 67, 0.3), 0px 1px 3px 1px rgba(60, 64, 67, 0.15);\n",
              "    fill: #174EA6;\n",
              "  }\n",
              "\n",
              "  [theme=dark] .colab-df-quickchart {\n",
              "    background-color: #3B4455;\n",
              "    fill: #D2E3FC;\n",
              "  }\n",
              "\n",
              "  [theme=dark] .colab-df-quickchart:hover {\n",
              "    background-color: #434B5C;\n",
              "    box-shadow: 0px 1px 3px 1px rgba(0, 0, 0, 0.15);\n",
              "    filter: drop-shadow(0px 1px 2px rgba(0, 0, 0, 0.3));\n",
              "    fill: #FFFFFF;\n",
              "  }\n",
              "</style>\n",
              "\n",
              "    <script>\n",
              "      async function quickchart(key) {\n",
              "        const containerElement = document.querySelector('#' + key);\n",
              "        const charts = await google.colab.kernel.invokeFunction(\n",
              "            'suggestCharts', [key], {});\n",
              "      }\n",
              "    </script>\n",
              "\n",
              "      <script>\n",
              "\n",
              "function displayQuickchartButton(domScope) {\n",
              "  let quickchartButtonEl =\n",
              "    domScope.querySelector('#df-ad60eed0-71dd-4a14-bfe4-b845f7b00054 button.colab-df-quickchart');\n",
              "  quickchartButtonEl.style.display =\n",
              "    google.colab.kernel.accessAllowed ? 'block' : 'none';\n",
              "}\n",
              "\n",
              "        displayQuickchartButton(document);\n",
              "      </script>\n",
              "      <style>\n",
              "    .colab-df-container {\n",
              "      display:flex;\n",
              "      flex-wrap:wrap;\n",
              "      gap: 12px;\n",
              "    }\n",
              "\n",
              "    .colab-df-convert {\n",
              "      background-color: #E8F0FE;\n",
              "      border: none;\n",
              "      border-radius: 50%;\n",
              "      cursor: pointer;\n",
              "      display: none;\n",
              "      fill: #1967D2;\n",
              "      height: 32px;\n",
              "      padding: 0 0 0 0;\n",
              "      width: 32px;\n",
              "    }\n",
              "\n",
              "    .colab-df-convert:hover {\n",
              "      background-color: #E2EBFA;\n",
              "      box-shadow: 0px 1px 2px rgba(60, 64, 67, 0.3), 0px 1px 3px 1px rgba(60, 64, 67, 0.15);\n",
              "      fill: #174EA6;\n",
              "    }\n",
              "\n",
              "    [theme=dark] .colab-df-convert {\n",
              "      background-color: #3B4455;\n",
              "      fill: #D2E3FC;\n",
              "    }\n",
              "\n",
              "    [theme=dark] .colab-df-convert:hover {\n",
              "      background-color: #434B5C;\n",
              "      box-shadow: 0px 1px 3px 1px rgba(0, 0, 0, 0.15);\n",
              "      filter: drop-shadow(0px 1px 2px rgba(0, 0, 0, 0.3));\n",
              "      fill: #FFFFFF;\n",
              "    }\n",
              "  </style>\n",
              "\n",
              "      <script>\n",
              "        const buttonEl =\n",
              "          document.querySelector('#df-5039acab-f5ea-444c-a6e6-97aab4950632 button.colab-df-convert');\n",
              "        buttonEl.style.display =\n",
              "          google.colab.kernel.accessAllowed ? 'block' : 'none';\n",
              "\n",
              "        async function convertToInteractive(key) {\n",
              "          const element = document.querySelector('#df-5039acab-f5ea-444c-a6e6-97aab4950632');\n",
              "          const dataTable =\n",
              "            await google.colab.kernel.invokeFunction('convertToInteractive',\n",
              "                                                     [key], {});\n",
              "          if (!dataTable) return;\n",
              "\n",
              "          const docLinkHtml = 'Like what you see? Visit the ' +\n",
              "            '<a target=\"_blank\" href=https://colab.research.google.com/notebooks/data_table.ipynb>data table notebook</a>'\n",
              "            + ' to learn more about interactive tables.';\n",
              "          element.innerHTML = '';\n",
              "          dataTable['output_type'] = 'display_data';\n",
              "          await google.colab.output.renderOutput(dataTable, element);\n",
              "          const docLink = document.createElement('div');\n",
              "          docLink.innerHTML = docLinkHtml;\n",
              "          element.appendChild(docLink);\n",
              "        }\n",
              "      </script>\n",
              "    </div>\n",
              "  </div>\n"
            ],
            "text/plain": [
              "                                               title          Source    Brand  \\\n",
              "0  7''1024*600 LCD With Touchscreen Digitizer Dis...  Unknown source  Generic   \n",
              "1  Tecno POP 7 6.6\" 2GB RAM/ 64GB ROM Android 12 ...  Official Store    Tecno   \n",
              "2  XIAOMI Redmi A2+ 6.52” 2GB RAM/32GB ROM Androi...  Official Store   XIAOMI   \n",
              "3  AGM NOTE N1,6.52\" 4G Smartphone, 128+16GB*(8+8...  Official Store      AGM   \n",
              "4  Samsung Galaxy A14 6.6\" 4GB RAM/64GB ROM Andro...  Official Store  Samsung   \n",
              "\n",
              "                                            Category  Rating  \\\n",
              "0  Automobile/Car Electronics & Accessories/Car E...     5.0   \n",
              "1  Phones & Tablets/Mobile Phones/Smartphones/And...     4.4   \n",
              "2  Phones & Tablets/Mobile Phones/Smartphones/And...     4.0   \n",
              "3  Phones & Tablets/Mobile Phones/Smartphones/And...     5.0   \n",
              "4  Phones & Tablets/Mobile Phones/Smartphones/And...     4.4   \n",
              "\n",
              "   Discounted price     price  \n",
              "0           23913.0   28160.0  \n",
              "1           59000.0  110800.0  \n",
              "2           46500.0   59000.0  \n",
              "3           76000.0  150000.0  \n",
              "4          100300.0  119000.0  "
            ]
          },
          "execution_count": 7,
          "metadata": {},
          "output_type": "execute_result"
        }
      ],
      "source": [
        "df.head()"
      ]
    },
    {
      "cell_type": "code",
      "execution_count": null,
      "metadata": {
        "colab": {
          "base_uri": "https://localhost:8080/"
        },
        "id": "O1Cu1D6nE61U",
        "outputId": "57cc97ac-9ea3-4cdc-ed4c-b73259de2887"
      },
      "outputs": [
        {
          "data": {
            "text/plain": [
              "(1920, 7)"
            ]
          },
          "execution_count": 8,
          "metadata": {},
          "output_type": "execute_result"
        }
      ],
      "source": [
        "df.shape"
      ]
    },
    {
      "cell_type": "code",
      "execution_count": null,
      "metadata": {
        "colab": {
          "base_uri": "https://localhost:8080/",
          "height": 300
        },
        "id": "UyHS9jktjTLR",
        "outputId": "821bc074-353b-4d12-ad22-b11e7dc14929"
      },
      "outputs": [
        {
          "data": {
            "text/html": [
              "\n",
              "\n",
              "  <div id=\"df-894c198a-282b-41e3-808e-f2f476490cf4\">\n",
              "    <div class=\"colab-df-container\">\n",
              "      <div>\n",
              "<style scoped>\n",
              "    .dataframe tbody tr th:only-of-type {\n",
              "        vertical-align: middle;\n",
              "    }\n",
              "\n",
              "    .dataframe tbody tr th {\n",
              "        vertical-align: top;\n",
              "    }\n",
              "\n",
              "    .dataframe thead th {\n",
              "        text-align: right;\n",
              "    }\n",
              "</style>\n",
              "<table border=\"1\" class=\"dataframe\">\n",
              "  <thead>\n",
              "    <tr style=\"text-align: right;\">\n",
              "      <th></th>\n",
              "      <th>Rating</th>\n",
              "      <th>Discounted price</th>\n",
              "      <th>price</th>\n",
              "    </tr>\n",
              "  </thead>\n",
              "  <tbody>\n",
              "    <tr>\n",
              "      <th>count</th>\n",
              "      <td>1920.000000</td>\n",
              "      <td>1.920000e+03</td>\n",
              "      <td>1.920000e+03</td>\n",
              "    </tr>\n",
              "    <tr>\n",
              "      <th>mean</th>\n",
              "      <td>4.940104</td>\n",
              "      <td>4.225551e+04</td>\n",
              "      <td>5.466268e+04</td>\n",
              "    </tr>\n",
              "    <tr>\n",
              "      <th>std</th>\n",
              "      <td>0.288635</td>\n",
              "      <td>1.001933e+05</td>\n",
              "      <td>1.329306e+05</td>\n",
              "    </tr>\n",
              "    <tr>\n",
              "      <th>min</th>\n",
              "      <td>1.000000</td>\n",
              "      <td>6.100000e+02</td>\n",
              "      <td>2.310000e+03</td>\n",
              "    </tr>\n",
              "    <tr>\n",
              "      <th>25%</th>\n",
              "      <td>5.000000</td>\n",
              "      <td>1.457400e+04</td>\n",
              "      <td>2.001725e+04</td>\n",
              "    </tr>\n",
              "    <tr>\n",
              "      <th>50%</th>\n",
              "      <td>5.000000</td>\n",
              "      <td>2.097900e+04</td>\n",
              "      <td>2.543550e+04</td>\n",
              "    </tr>\n",
              "    <tr>\n",
              "      <th>75%</th>\n",
              "      <td>5.000000</td>\n",
              "      <td>2.628400e+04</td>\n",
              "      <td>3.249100e+04</td>\n",
              "    </tr>\n",
              "    <tr>\n",
              "      <th>max</th>\n",
              "      <td>5.000000</td>\n",
              "      <td>1.999400e+06</td>\n",
              "      <td>2.999999e+06</td>\n",
              "    </tr>\n",
              "  </tbody>\n",
              "</table>\n",
              "</div>\n",
              "      <button class=\"colab-df-convert\" onclick=\"convertToInteractive('df-894c198a-282b-41e3-808e-f2f476490cf4')\"\n",
              "              title=\"Convert this dataframe to an interactive table.\"\n",
              "              style=\"display:none;\">\n",
              "\n",
              "  <svg xmlns=\"http://www.w3.org/2000/svg\" height=\"24px\"viewBox=\"0 0 24 24\"\n",
              "       width=\"24px\">\n",
              "    <path d=\"M0 0h24v24H0V0z\" fill=\"none\"/>\n",
              "    <path d=\"M18.56 5.44l.94 2.06.94-2.06 2.06-.94-2.06-.94-.94-2.06-.94 2.06-2.06.94zm-11 1L8.5 8.5l.94-2.06 2.06-.94-2.06-.94L8.5 2.5l-.94 2.06-2.06.94zm10 10l.94 2.06.94-2.06 2.06-.94-2.06-.94-.94-2.06-.94 2.06-2.06.94z\"/><path d=\"M17.41 7.96l-1.37-1.37c-.4-.4-.92-.59-1.43-.59-.52 0-1.04.2-1.43.59L10.3 9.45l-7.72 7.72c-.78.78-.78 2.05 0 2.83L4 21.41c.39.39.9.59 1.41.59.51 0 1.02-.2 1.41-.59l7.78-7.78 2.81-2.81c.8-.78.8-2.07 0-2.86zM5.41 20L4 18.59l7.72-7.72 1.47 1.35L5.41 20z\"/>\n",
              "  </svg>\n",
              "      </button>\n",
              "\n",
              "\n",
              "\n",
              "    <div id=\"df-59623bfa-7538-4bfb-90c5-3f03defd63e5\">\n",
              "      <button class=\"colab-df-quickchart\" onclick=\"quickchart('df-59623bfa-7538-4bfb-90c5-3f03defd63e5')\"\n",
              "              title=\"Suggest charts.\"\n",
              "              style=\"display:none;\">\n",
              "\n",
              "<svg xmlns=\"http://www.w3.org/2000/svg\" height=\"24px\"viewBox=\"0 0 24 24\"\n",
              "     width=\"24px\">\n",
              "    <g>\n",
              "        <path d=\"M19 3H5c-1.1 0-2 .9-2 2v14c0 1.1.9 2 2 2h14c1.1 0 2-.9 2-2V5c0-1.1-.9-2-2-2zM9 17H7v-7h2v7zm4 0h-2V7h2v10zm4 0h-2v-4h2v4z\"/>\n",
              "    </g>\n",
              "</svg>\n",
              "      </button>\n",
              "    </div>\n",
              "\n",
              "<style>\n",
              "  .colab-df-quickchart {\n",
              "    background-color: #E8F0FE;\n",
              "    border: none;\n",
              "    border-radius: 50%;\n",
              "    cursor: pointer;\n",
              "    display: none;\n",
              "    fill: #1967D2;\n",
              "    height: 32px;\n",
              "    padding: 0 0 0 0;\n",
              "    width: 32px;\n",
              "  }\n",
              "\n",
              "  .colab-df-quickchart:hover {\n",
              "    background-color: #E2EBFA;\n",
              "    box-shadow: 0px 1px 2px rgba(60, 64, 67, 0.3), 0px 1px 3px 1px rgba(60, 64, 67, 0.15);\n",
              "    fill: #174EA6;\n",
              "  }\n",
              "\n",
              "  [theme=dark] .colab-df-quickchart {\n",
              "    background-color: #3B4455;\n",
              "    fill: #D2E3FC;\n",
              "  }\n",
              "\n",
              "  [theme=dark] .colab-df-quickchart:hover {\n",
              "    background-color: #434B5C;\n",
              "    box-shadow: 0px 1px 3px 1px rgba(0, 0, 0, 0.15);\n",
              "    filter: drop-shadow(0px 1px 2px rgba(0, 0, 0, 0.3));\n",
              "    fill: #FFFFFF;\n",
              "  }\n",
              "</style>\n",
              "\n",
              "    <script>\n",
              "      async function quickchart(key) {\n",
              "        const containerElement = document.querySelector('#' + key);\n",
              "        const charts = await google.colab.kernel.invokeFunction(\n",
              "            'suggestCharts', [key], {});\n",
              "      }\n",
              "    </script>\n",
              "\n",
              "      <script>\n",
              "\n",
              "function displayQuickchartButton(domScope) {\n",
              "  let quickchartButtonEl =\n",
              "    domScope.querySelector('#df-59623bfa-7538-4bfb-90c5-3f03defd63e5 button.colab-df-quickchart');\n",
              "  quickchartButtonEl.style.display =\n",
              "    google.colab.kernel.accessAllowed ? 'block' : 'none';\n",
              "}\n",
              "\n",
              "        displayQuickchartButton(document);\n",
              "      </script>\n",
              "      <style>\n",
              "    .colab-df-container {\n",
              "      display:flex;\n",
              "      flex-wrap:wrap;\n",
              "      gap: 12px;\n",
              "    }\n",
              "\n",
              "    .colab-df-convert {\n",
              "      background-color: #E8F0FE;\n",
              "      border: none;\n",
              "      border-radius: 50%;\n",
              "      cursor: pointer;\n",
              "      display: none;\n",
              "      fill: #1967D2;\n",
              "      height: 32px;\n",
              "      padding: 0 0 0 0;\n",
              "      width: 32px;\n",
              "    }\n",
              "\n",
              "    .colab-df-convert:hover {\n",
              "      background-color: #E2EBFA;\n",
              "      box-shadow: 0px 1px 2px rgba(60, 64, 67, 0.3), 0px 1px 3px 1px rgba(60, 64, 67, 0.15);\n",
              "      fill: #174EA6;\n",
              "    }\n",
              "\n",
              "    [theme=dark] .colab-df-convert {\n",
              "      background-color: #3B4455;\n",
              "      fill: #D2E3FC;\n",
              "    }\n",
              "\n",
              "    [theme=dark] .colab-df-convert:hover {\n",
              "      background-color: #434B5C;\n",
              "      box-shadow: 0px 1px 3px 1px rgba(0, 0, 0, 0.15);\n",
              "      filter: drop-shadow(0px 1px 2px rgba(0, 0, 0, 0.3));\n",
              "      fill: #FFFFFF;\n",
              "    }\n",
              "  </style>\n",
              "\n",
              "      <script>\n",
              "        const buttonEl =\n",
              "          document.querySelector('#df-894c198a-282b-41e3-808e-f2f476490cf4 button.colab-df-convert');\n",
              "        buttonEl.style.display =\n",
              "          google.colab.kernel.accessAllowed ? 'block' : 'none';\n",
              "\n",
              "        async function convertToInteractive(key) {\n",
              "          const element = document.querySelector('#df-894c198a-282b-41e3-808e-f2f476490cf4');\n",
              "          const dataTable =\n",
              "            await google.colab.kernel.invokeFunction('convertToInteractive',\n",
              "                                                     [key], {});\n",
              "          if (!dataTable) return;\n",
              "\n",
              "          const docLinkHtml = 'Like what you see? Visit the ' +\n",
              "            '<a target=\"_blank\" href=https://colab.research.google.com/notebooks/data_table.ipynb>data table notebook</a>'\n",
              "            + ' to learn more about interactive tables.';\n",
              "          element.innerHTML = '';\n",
              "          dataTable['output_type'] = 'display_data';\n",
              "          await google.colab.output.renderOutput(dataTable, element);\n",
              "          const docLink = document.createElement('div');\n",
              "          docLink.innerHTML = docLinkHtml;\n",
              "          element.appendChild(docLink);\n",
              "        }\n",
              "      </script>\n",
              "    </div>\n",
              "  </div>\n"
            ],
            "text/plain": [
              "            Rating  Discounted price         price\n",
              "count  1920.000000      1.920000e+03  1.920000e+03\n",
              "mean      4.940104      4.225551e+04  5.466268e+04\n",
              "std       0.288635      1.001933e+05  1.329306e+05\n",
              "min       1.000000      6.100000e+02  2.310000e+03\n",
              "25%       5.000000      1.457400e+04  2.001725e+04\n",
              "50%       5.000000      2.097900e+04  2.543550e+04\n",
              "75%       5.000000      2.628400e+04  3.249100e+04\n",
              "max       5.000000      1.999400e+06  2.999999e+06"
            ]
          },
          "execution_count": 9,
          "metadata": {},
          "output_type": "execute_result"
        }
      ],
      "source": [
        "df.describe()"
      ]
    },
    {
      "cell_type": "code",
      "execution_count": null,
      "metadata": {
        "colab": {
          "base_uri": "https://localhost:8080/"
        },
        "id": "xpqxarcXSgd3",
        "outputId": "a049db70-fc3c-449f-b89b-3c494c4d3f7f"
      },
      "outputs": [
        {
          "data": {
            "text/plain": [
              "title                object\n",
              "Source               object\n",
              "Brand                object\n",
              "Category             object\n",
              "Rating              float64\n",
              "Discounted price    float64\n",
              "price               float64\n",
              "dtype: object"
            ]
          },
          "execution_count": 10,
          "metadata": {},
          "output_type": "execute_result"
        }
      ],
      "source": [
        "df.dtypes"
      ]
    },
    {
      "cell_type": "code",
      "execution_count": null,
      "metadata": {
        "colab": {
          "base_uri": "https://localhost:8080/"
        },
        "id": "nZa0ZmcpTC5i",
        "outputId": "0ea15695-7bde-4a4d-bc5d-292313dea810"
      },
      "outputs": [
        {
          "data": {
            "text/plain": [
              "title               0\n",
              "Source              0\n",
              "Brand               0\n",
              "Category            0\n",
              "Rating              0\n",
              "Discounted price    0\n",
              "price               0\n",
              "dtype: int64"
            ]
          },
          "execution_count": 11,
          "metadata": {},
          "output_type": "execute_result"
        }
      ],
      "source": [
        "df.isna().sum()"
      ]
    },
    {
      "cell_type": "code",
      "execution_count": null,
      "metadata": {
        "colab": {
          "base_uri": "https://localhost:8080/",
          "height": 452
        },
        "id": "gr4VLJE_U8az",
        "outputId": "fccdf157-1d93-41cf-b67d-2954d194ebe9"
      },
      "outputs": [
        {
          "data": {
            "image/png": "[encoded data removed]",
            "text/plain": [
              "<Figure size 640x480 with 1 Axes>"
            ]
          },
          "metadata": {},
          "output_type": "display_data"
        }
      ],
      "source": [
        "import matplotlib.pyplot as plt\n",
        "\n",
        "df.boxplot(column=['Rating', 'Discounted price', 'price'])\n",
        "plt.title('Box Plot of Rating, Discounted Price and price')\n",
        "plt.ylabel('Value')\n",
        "plt.show()\n"
      ]
    },
    {
      "cell_type": "code",
      "execution_count": null,
      "metadata": {
        "id": "Sm60VuIxf_yU"
      },
      "outputs": [],
      "source": [
        "from scipy import stats\n",
        "\n",
        "# Convert 'price' column to numeric data type\n",
        "df['price'] = pd.to_numeric(df['price'], errors='coerce')\n",
        "\n",
        "# Calculate z-scores\n",
        "z_scores = stats.zscore(df['price'].dropna())\n",
        "\n",
        "# Set threshold value\n",
        "threshold = 3.0  # Adjust the threshold value as needed\n",
        "\n",
        "# Filter out outliers based on z-scores\n",
        "df = df[(np.abs(z_scores) < threshold) | (df['price'].isnull())]\n"
      ]
    },
    {
      "cell_type": "code",
      "execution_count": null,
      "metadata": {
        "colab": {
          "base_uri": "https://localhost:8080/"
        },
        "id": "4wbXxRojWwCJ",
        "outputId": "a52f8eb3-c0b8-4762-f6e1-c694427ba953"
      },
      "outputs": [
        {
          "data": {
            "text/plain": [
              "329"
            ]
          },
          "execution_count": 14,
          "metadata": {},
          "output_type": "execute_result"
        }
      ],
      "source": [
        "df.duplicated().sum()"
      ]
    },
    {
      "cell_type": "code",
      "execution_count": null,
      "metadata": {
        "colab": {
          "base_uri": "https://localhost:8080/"
        },
        "id": "XUqizeiYenX6",
        "outputId": "4842aa42-0072-4173-ec59-9e2555b1a964"
      },
      "outputs": [
        {
          "name": "stdout",
          "output_type": "stream",
          "text": [
            "                                                  title          Source  \\\n",
            "40    XIAOMI Redmi Note 11s 6.43\" 6G+128G Dual SIM F...  Official Store   \n",
            "158   For Bottom Mic USB Charger Sub Board Connector...  Unknown source   \n",
            "175   5Pcs/2pcs/1pc/lot Metal Plates With Adhensive ...  Unknown source   \n",
            "180   For Samsung Galaxy Tab 4 8.0 T331 T335 T330 To...  Unknown source   \n",
            "199   Tested 5.2'' LCD Display For Meizu M5S LCD Mei...  Unknown source   \n",
            "...                                                 ...             ...   \n",
            "1909          1PCS KB5150 MP123T-CH32X KB5150 ZL-03ALED  Unknown source   \n",
            "1910  Latumab 5.6inch AT056TN52 V3 LCD Screen + VGA ...  Unknown source   \n",
            "1911  Cool Than Talk 7 X 7 Xs U51GT Dual Quad-core E...  Unknown source   \n",
            "1918  Sim Micro SD Card Socket Holder Slot Tray Read...  Unknown source   \n",
            "1919        New Touch Screen LCD Display LCD Screen For  Unknown source   \n",
            "\n",
            "        Brand                                           Category  Rating  \\\n",
            "40     XIAOMI  Phones & Tablets/Mobile Phones/Smartphones/And...     4.8   \n",
            "158   Generic  Automobile/Car Electronics & Accessories/Car E...     5.0   \n",
            "175   Generic  Automobile/Car Electronics & Accessories/Car E...     5.0   \n",
            "180   Generic  Automobile/Car Electronics & Accessories/Car E...     5.0   \n",
            "199   Generic  Automobile/Car Electronics & Accessories/Car E...     5.0   \n",
            "...       ...                                                ...     ...   \n",
            "1909  Generic  Automobile/Car Electronics & Accessories/Car E...     5.0   \n",
            "1910  Generic  Automobile/Car Electronics & Accessories/Car E...     5.0   \n",
            "1911  Generic  Automobile/Car Electronics & Accessories/Car E...     5.0   \n",
            "1918  Generic  Automobile/Car Electronics & Accessories/Car E...     5.0   \n",
            "1919  Generic  Automobile/Car Electronics & Accessories/Car E...     5.0   \n",
            "\n",
            "      Discounted price     price  \n",
            "40            140000.0  252554.0  \n",
            "158            25790.0   44465.0  \n",
            "175             5895.0   10163.0  \n",
            "180            11948.0   15009.0  \n",
            "199            23350.0   29110.0  \n",
            "...                ...       ...  \n",
            "1909           29988.0   37238.0  \n",
            "1910           32396.0   40609.0  \n",
            "1911           26452.0   28129.0  \n",
            "1918           14420.0   16580.0  \n",
            "1919           15050.0   17450.0  \n",
            "\n",
            "[329 rows x 7 columns]\n"
          ]
        }
      ],
      "source": [
        "# Example: Print the duplicate rows for further investigation\n",
        "duplicate_rows = df[df.duplicated()]\n",
        "print(duplicate_rows)\n"
      ]
    },
    {
      "cell_type": "code",
      "execution_count": null,
      "metadata": {
        "id": "NOp199XsenNc"
      },
      "outputs": [],
      "source": [
        "df = df.drop_duplicates(keep='first')\n"
      ]
    },
    {
      "cell_type": "code",
      "execution_count": null,
      "metadata": {
        "colab": {
          "base_uri": "https://localhost:8080/"
        },
        "id": "ILvxPlR0evLw",
        "outputId": "f01383bf-ec8f-479b-b94e-f8d2a8495fa9"
      },
      "outputs": [
        {
          "data": {
            "text/plain": [
              "0"
            ]
          },
          "execution_count": 17,
          "metadata": {},
          "output_type": "execute_result"
        }
      ],
      "source": [
        "df.duplicated().sum()"
      ]
    },
    {
      "cell_type": "code",
      "execution_count": null,
      "metadata": {
        "colab": {
          "base_uri": "https://localhost:8080/"
        },
        "id": "dwasmZqvXl-t",
        "outputId": "373e04b1-ac5a-4380-b8cc-ae1f02157211"
      },
      "outputs": [
        {
          "data": {
            "text/plain": [
              "Index(['title', 'Source', 'Brand', 'Category', 'Rating', 'Discounted price',\n",
              "       'price'],\n",
              "      dtype='object')"
            ]
          },
          "execution_count": 18,
          "metadata": {},
          "output_type": "execute_result"
        }
      ],
      "source": [
        "df.columns"
      ]
    },
    {
      "cell_type": "code",
      "execution_count": null,
      "metadata": {
        "colab": {
          "base_uri": "https://localhost:8080/",
          "height": 754
        },
        "id": "sM6ItUk5qO9g",
        "outputId": "e1c8d167-43f9-4ed0-db71-570b5d061fd6"
      },
      "outputs": [
        {
          "name": "stderr",
          "output_type": "stream",
          "text": [
            "<ipython-input-40-68544b7ea57a>:3: FutureWarning: The default value of numeric_only in DataFrame.corr is deprecated. In a future version, it will default to False. Select only valid columns or specify the value of numeric_only to silence this warning.\n",
            "  correlation_matrix = df.corr()\n"
          ]
        },
        {
          "data": {
            "image/png": "[encoded data removed]",
            "text/plain": [
              "<Figure size 1000x800 with 2 Axes>"
            ]
          },
          "metadata": {},
          "output_type": "display_data"
        }
      ],
      "source": [
        "import seaborn as sns\n",
        "# Calculate the correlation matrix\n",
        "correlation_matrix = df.corr()\n",
        "\n",
        "# Create a correlation heatmap\n",
        "plt.figure(figsize=(10, 8))\n",
        "sns.heatmap(correlation_matrix, annot=True, cmap='coolwarm')\n",
        "plt.title('Correlation Heatmap')\n",
        "plt.show()"
      ]
    },
    {
      "cell_type": "code",
      "execution_count": null,
      "metadata": {
        "colab": {
          "base_uri": "https://localhost:8080/"
        },
        "id": "o8pFnUpbr6JS",
        "outputId": "fb6c700e-fb90-4ed7-84bd-c7a13a41ff46"
      },
      "outputs": [
        {
          "name": "stdout",
          "output_type": "stream",
          "text": [
            "Rating: 4.926930440331844\n"
          ]
        }
      ],
      "source": [
        "average_rating = df[\"Rating\"].mean()\n",
        "print(\"Rating:\", average_rating)"
      ]
    },
    {
      "cell_type": "code",
      "execution_count": null,
      "metadata": {
        "colab": {
          "base_uri": "https://localhost:8080/"
        },
        "id": "td5h3qC4uA9E",
        "outputId": "9c1e299b-9876-4d2a-be21-bcfe6d0f02b6"
      },
      "outputs": [
        {
          "data": {
            "text/plain": [
              "40560.86534079138"
            ]
          },
          "execution_count": 46,
          "metadata": {},
          "output_type": "execute_result"
        }
      ],
      "source": [
        "df['price'] = df['price'].replace(',','').astype(float)\n",
        "ave_price = df['price'].mean()\n",
        "ave_price"
      ]
    },
    {
      "cell_type": "code",
      "execution_count": null,
      "metadata": {
        "id": "FfgYUE2lsLxL"
      },
      "outputs": [],
      "source": [
        "positive_reviews = df[df[\"Rating\"] >= 4]\n",
        "#print(positive_reviews)"
      ]
    },
    {
      "cell_type": "code",
      "execution_count": null,
      "metadata": {
        "colab": {
          "base_uri": "https://localhost:8080/"
        },
        "id": "ZKGJg0NSzs1v",
        "outputId": "b8a33246-e6de-481b-fa4e-294fde2ddf78"
      },
      "outputs": [
        {
          "data": {
            "text/plain": [
              "4741"
            ]
          },
          "execution_count": 58,
          "metadata": {},
          "output_type": "execute_result"
        }
      ],
      "source": [
        "len(positive_reviews)"
      ]
    },
    {
      "cell_type": "code",
      "execution_count": null,
      "metadata": {
        "colab": {
          "base_uri": "https://localhost:8080/"
        },
        "id": "TRey-As3xhGx",
        "outputId": "16e48ae6-b263-4a2a-e0f2-95af28780ea0"
      },
      "outputs": [
        {
          "name": "stdout",
          "output_type": "stream",
          "text": [
            "title         Samsung GALAXY A53-6.5\"-128GB/6GB ROM-64MP/32M...\n",
            "source                                           Unknown source\n",
            "Brand                                                   Samsung\n",
            "category      Phones & Tablets/Mobile Phones/Smartphones/And...\n",
            "Rating                                                      5.0\n",
            "Discounted                                            4000000.0\n",
            "price                                                  277500.0\n",
            "Name: 646, dtype: object\n"
          ]
        }
      ],
      "source": [
        "highest_discount_product = df.loc[df['Discounted'].idxmax()]\n",
        "print(highest_discount_product)\n"
      ]
    },
    {
      "cell_type": "code",
      "execution_count": null,
      "metadata": {
        "id": "8jQM-2vNtUwL"
      },
      "outputs": [],
      "source": [
        "import sqlite3\n",
        "\n",
        "# connecting to the sqlite database\n",
        "conn = sqlite3.connect(\"reviews.db\")\n",
        "\n",
        "# creating a cursor object\n",
        "cursor = conn.cursor()\n"
      ]
    },
    {
      "cell_type": "code",
      "execution_count": null,
      "metadata": {
        "colab": {
          "base_uri": "https://localhost:8080/"
        },
        "id": "DzWGwapDtUsu",
        "outputId": "9a0cacc5-afa5-4c1e-f272-11951566aba7"
      },
      "outputs": [
        {
          "data": {
            "text/plain": [
              "<sqlite3.Cursor at 0x7d654cc84e40>"
            ]
          },
          "execution_count": 22,
          "metadata": {},
          "output_type": "execute_result"
        }
      ],
      "source": [
        "cursor.execute('''CREATE TABLE IF NOT EXISTS reviews\n",
        "                  (title TEXT, source TEXT, Brand TEXT, category TEXT, Rating REAL, Discounted price TEXT, price TEXT)''')"
      ]
    },
    {
      "cell_type": "code",
      "execution_count": null,
      "metadata": {
        "id": "oLxFudk4tUqT"
      },
      "outputs": [],
      "source": [
        "# Insert the data into the table\n",
        "for _, row in df.iterrows():\n",
        "    cursor.execute(\"INSERT INTO reviews VALUES (?, ?, ?, ?, ?, ?, ?)\",\n",
        "                   (row[\"title\"], row[\"Source\"], row[\"Brand\"], row[\"Category\"], row[\"Rating\"], row[\"price\"], row[\"Discounted price\"]))\n"
      ]
    },
    {
      "cell_type": "code",
      "execution_count": null,
      "metadata": {
        "id": "De2qolyFtUnu"
      },
      "outputs": [],
      "source": [
        "# Commit the changes and close the connection\n",
        "conn.commit()\n",
        "conn.close()\n"
      ]
    },
    {
      "cell_type": "code",
      "execution_count": null,
      "metadata": {
        "id": "pEHgryWrtUlE"
      },
      "outputs": [],
      "source": [
        "conn = sqlite3.connect(\"reviews.db\")"
      ]
    },
    {
      "cell_type": "code",
      "execution_count": null,
      "metadata": {
        "id": "MdI29T2YtUit",
        "outputId": "6f262cee-ee53-4d7b-fb14-41c8090c8361",
        "colab": {
          "base_uri": "https://localhost:8080/",
          "height": 165
        }
      },
      "outputs": [
        {
          "output_type": "error",
          "ename": "NameError",
          "evalue": "ignored",
          "traceback": [
            "\u001b[0;31m---------------------------------------------------------------------------\u001b[0m",
            "\u001b[0;31mNameError\u001b[0m                                 Traceback (most recent call last)",
            "\u001b[0;32m<ipython-input-1-d58975742393>\u001b[0m in \u001b[0;36m<cell line: 1>\u001b[0;34m()\u001b[0m\n\u001b[0;32m----> 1\u001b[0;31m \u001b[0mdf\u001b[0m \u001b[0;34m=\u001b[0m \u001b[0mpd\u001b[0m\u001b[0;34m.\u001b[0m\u001b[0mread_sql_query\u001b[0m\u001b[0;34m(\u001b[0m\u001b[0;34m\"SELECT * FROM reviews\"\u001b[0m\u001b[0;34m,\u001b[0m \u001b[0mconn\u001b[0m\u001b[0;34m)\u001b[0m\u001b[0;34m\u001b[0m\u001b[0;34m\u001b[0m\u001b[0m\n\u001b[0m",
            "\u001b[0;31mNameError\u001b[0m: name 'pd' is not defined"
          ]
        }
      ],
      "source": [
        "df = pd.read_sql_query(\"SELECT * FROM reviews\", conn)"
      ]
    },
    {
      "cell_type": "code",
      "execution_count": null,
      "metadata": {
        "id": "phqzGdXhi9fJ"
      },
      "outputs": [],
      "source": [
        "average_rating = df[\"Rating\"].mean()\n",
        "total_reviews = len(df)\n",
        "positive_reviews = df[df[\"Rating\"] >= 4]\n"
      ]
    },
    {
      "cell_type": "code",
      "execution_count": null,
      "metadata": {
        "id": "M847PYCyQLjN"
      },
      "outputs": [],
      "source": [
        "# Sort the DataFrame by \"Discounted price\" in descending order\n",
        "df_sorted = df.sort_values(by=\"Discounted\", ascending=False)\n",
        "\n",
        "# Get the top N products with the highest discount\n",
        "top_products = df_sorted.head(5)  # Change the number to the desired count of top products\n",
        "print(\"Top Products with Highest Discount:\")\n",
        "print(top_products)"
      ]
    },
    {
      "cell_type": "code",
      "execution_count": null,
      "metadata": {
        "colab": {
          "base_uri": "https://localhost:8080/"
        },
        "id": "hYnPkfS6w0V-",
        "outputId": "8fd101ca-aeb2-4525-a13e-cfce120e4e0e"
      },
      "outputs": [
        {
          "name": "stdout",
          "output_type": "stream",
          "text": [
            "Average Rating: 4.936958773565362\n",
            "Average Price: 40560.86534079138\n",
            "Total Reviews: 4827\n",
            "Positive Reviews:\n",
            "                                                  title          source  \\\n",
            "0     AGM NOTE N1,6.52\" 4G Smartphone, 128+16GB*(8+8...  Official Store   \n",
            "1     XIAOMI Redmi A2+ 6.52” 2GB RAM/32GB ROM Androi...  Official Store   \n",
            "2     Black For Sony Xperia Tablet Z2 SGP511 G512 SG...  Unknown source   \n",
            "3     Samsung Galaxy A14 6.6\" 4GB RAM/64GB ROM Andro...  Official Store   \n",
            "4     XIAOMI A1 Plus 6.52\" 2GB RAM/32GB ROM Android ...  Official Store   \n",
            "...                                                 ...             ...   \n",
            "4822  New Touch Screen Panel Digitizer Glass For Tab...  Unknown source   \n",
            "4823  Bicycle Stopwatch LCD Screen With Touch Screen...  Unknown source   \n",
            "4824  360° Car Rearview Mirror Phone Holder Mount Ph...  Unknown source   \n",
            "4825  Wholesale 7'' Inch For Huawei Mediapad S7 Lite...  Unknown source   \n",
            "4826  3 In1 USB HUB Type-C To HDMI-Compatible 3 Port...  Unknown source   \n",
            "\n",
            "        Brand                                           category  Rating  \\\n",
            "0         AGM  Phones & Tablets/Mobile Phones/Smartphones/And...     5.0   \n",
            "1      XIAOMI  Phones & Tablets/Mobile Phones/Smartphones/And...     4.0   \n",
            "2     Generic  Automobile/Car Electronics & Accessories/Car E...     5.0   \n",
            "3     Samsung  Phones & Tablets/Mobile Phones/Smartphones/And...     4.4   \n",
            "4      XIAOMI  Phones & Tablets/Mobile Phones/Smartphones/And...     4.4   \n",
            "...       ...                                                ...     ...   \n",
            "4822  Generic  Automobile/Car Electronics & Accessories/Car E...     5.0   \n",
            "4823  Generic  Automobile/Car Electronics & Accessories/Car E...     5.0   \n",
            "4824  Generic  Automobile/Car Electronics & Accessories/Car E...     5.0   \n",
            "4825  Generic  Automobile/Car Electronics & Accessories/Car E...     5.0   \n",
            "4826  Generic  Automobile/Car Electronics & Accessories/Car E...     5.0   \n",
            "\n",
            "     Discounted     price  \n",
            "0      150000.0   76000.0  \n",
            "1       59000.0   46500.0  \n",
            "2       21964.0   16916.0  \n",
            "3      119000.0  100300.0  \n",
            "4       61000.0   49000.0  \n",
            "...         ...       ...  \n",
            "4822    23660.0   20699.0  \n",
            "4823    23418.0   20526.0  \n",
            "4824    27277.0   15821.0  \n",
            "4825    24727.0   21461.0  \n",
            "4826    28745.0   25601.0  \n",
            "\n",
            "[4741 rows x 7 columns]\n",
            "Highest_Discount_Product: title         Samsung GALAXY A53-6.5\"-128GB/6GB ROM-64MP/32M...\n",
            "source                                           Unknown source\n",
            "Brand                                                   Samsung\n",
            "category      Phones & Tablets/Mobile Phones/Smartphones/And...\n",
            "Rating                                                      5.0\n",
            "Discounted                                            4000000.0\n",
            "price                                                  277500.0\n",
            "Name: 646, dtype: object\n"
          ]
        }
      ],
      "source": [
        "# Print the results\n",
        "print(\"Average Rating:\", average_rating)\n",
        "print(\"Average Price:\", ave_price)\n",
        "print(\"Total Reviews:\", total_reviews)\n",
        "print(\"Positive Reviews:\")\n",
        "print(positive_reviews)\n",
        "print(\"Highest_Discount_Product:\", highest_discount_product)\n"
      ]
    },
    {
      "cell_type": "code",
      "execution_count": null,
      "metadata": {
        "id": "rKLr3_1sw40i"
      },
      "outputs": [],
      "source": [
        "# Close the connection\n",
        "conn.close()"
      ]
    },
    {
      "cell_type": "code",
      "execution_count": null,
      "metadata": {
        "id": "NM2gAGoESBnT"
      },
      "outputs": [],
      "source": []
    }
  ],
  "metadata": {
    "colab": {
      "provenance": [],
      "include_colab_link": true
    },
    "kernelspec": {
      "display_name": "Python 3",
      "language": "python",
      "name": "python3"
    },
    "language_info": {
      "codemirror_mode": {
        "name": "ipython",
        "version": 3
      },
      "file_extension": ".py",
      "mimetype": "text/x-python",
      "name": "python",
      "nbconvert_exporter": "python",
      "pygments_lexer": "ipython3",
      "version": "3.8.5"
    }
  },
  "nbformat": 4,
  "nbformat_minor": 0
}